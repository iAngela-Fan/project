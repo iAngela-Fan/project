{
  "nbformat": 4,
  "nbformat_minor": 0,
  "metadata": {
    "colab": {
      "provenance": [],
      "toc_visible": true,
      "authorship_tag": "ABX9TyPE9pi4SaavwR5s9dGj0Ny6",
      "include_colab_link": true
    },
    "kernelspec": {
      "name": "python3",
      "display_name": "Python 3"
    },
    "language_info": {
      "name": "python"
    }
  },
  "cells": [
    {
      "cell_type": "markdown",
      "metadata": {
        "id": "view-in-github",
        "colab_type": "text"
      },
      "source": [
        "<a href=\"https://colab.research.google.com/github/iAngela-Fan/project/blob/main/%E8%87%AA%E4%B8%BB%E5%AD%B8%E7%BF%92_python_%E8%AE%8A%E6%95%B8.ipynb\" target=\"_parent\"><img src=\"https://colab.research.google.com/assets/colab-badge.svg\" alt=\"Open In Colab\"/></a>"
      ]
    },
    {
      "cell_type": "markdown",
      "source": [
        "#**輸出(basic)**\n",
        "\n",
        "---\n",
        "\n",
        "\n",
        "*   若想將資料輸出，可使用print()\n",
        "\n"
      ],
      "metadata": {
        "id": "V9uW4muBAYfr"
      }
    },
    {
      "cell_type": "code",
      "source": [
        "print(1)             #可直接在括號內加入數字\n",
        "print(1+2)           #可直接在括號內進行計算\n",
        "a=2;print(a)         #可直接在括號內放置變數\n",
        "print('hello world') #不可直接在括號內寫字串，需加入''"
      ],
      "metadata": {
        "id": "m4Bnesw2AyNN"
      },
      "execution_count": null,
      "outputs": []
    },
    {
      "cell_type": "markdown",
      "source": [
        "#**變數的作用**\n",
        "\n",
        "---\n",
        "\n",
        "\n",
        "\n",
        "*   毋須重複輸入\n",
        "*   儲存資料以便之後使用\n",
        "\n",
        "\n",
        "\n",
        "\n",
        "\n",
        "\n",
        "\n"
      ],
      "metadata": {
        "id": "k1tmKBPn9_iV"
      }
    },
    {
      "cell_type": "markdown",
      "source": [
        "#**變數的設定**\n",
        "\n",
        "---\n",
        "\n",
        "*   變數只能以英文字母或底線（ ＿ ）開頭 \n",
        "*   變數僅可由字母、底線、數字組合，不可包含空白\n",
        "*   變數的大小寫視為不同ex. Coffee/coffee/COFFEE為不同變數\n",
        "*   變數不可使用保留字\n",
        "\n",
        "![20190111161901158.png](data:image/png;base64,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)\n",
        "\n",
        "\n",
        "*   建議以英文當變數為主\n",
        "\n"
      ],
      "metadata": {
        "id": "QUe5XopKZvZ4"
      }
    },
    {
      "cell_type": "code",
      "source": [
        "#合法變數\n",
        "family\n",
        "x_123\n",
        "black34\n",
        "_tea\n",
        "\n",
        "#非法變數\n",
        "2phone   #不可使用數字開頭\n",
        "%wifi    #不可使用符號開頭\n",
        "tree!    #變數不可含有「！」\n",
        "sit seat #變數不可含有「空格」\n",
        "true#    #變數不可含有「＃」"
      ],
      "metadata": {
        "id": "O0DJ_ggSbdDq"
      },
      "execution_count": null,
      "outputs": []
    },
    {
      "cell_type": "markdown",
      "source": [
        "#**變數的宣告**\n",
        "\n",
        "---\n",
        "\n",
        "*   變數放在左邊就相當於宣告\n",
        "*   須特別留意變數名稱不能搞錯\n"
      ],
      "metadata": {
        "id": "MjtnFABYdHMO"
      }
    },
    {
      "cell_type": "code",
      "source": [
        "apartment=2\n",
        "bottle=3\n",
        "cup=4\n",
        "apartment=2;bottle=3;cup=4  # 若要將變數放同一行使用分號『;』\n",
        "\n"
      ],
      "metadata": {
        "id": "kAX_U_W0dLvI"
      },
      "execution_count": null,
      "outputs": []
    },
    {
      "cell_type": "code",
      "source": [
        "apple=1\n",
        "apple=aple+3     #當錯誤在變數右邊時，可偵測到錯誤\n",
        "print(apple)\n"
      ],
      "metadata": {
        "id": "r0DfW9qte5Au"
      },
      "execution_count": null,
      "outputs": []
    },
    {
      "cell_type": "code",
      "source": [
        "apple=1\n",
        "aple=apple+3     #當錯誤在變數左邊時，無法偵測到錯誤\n",
        "print(apple)"
      ],
      "metadata": {
        "id": "WmyWiCxbfFMa"
      },
      "execution_count": null,
      "outputs": []
    },
    {
      "cell_type": "markdown",
      "source": [
        "#**變數的運算**\n",
        "\n",
        "---\n",
        "\n",
        "\n",
        "*   算術運算子(arithmetic operator)\n",
        "\n",
        "![download.jpeg](data:image/jpeg;base64,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)\n",
        "\n",
        "\n",
        "\n",
        "*   取絕對值使用函數abs()\n",
        "\n",
        "\n"
      ],
      "metadata": {
        "id": "7Y2SVsW9flX6"
      }
    },
    {
      "cell_type": "code",
      "source": [
        "a=1\n",
        "b=2\n",
        "print(a+b)  #a加b\n",
        "print(a-b)  #a減b\n",
        "print(a*b)  #a乘以b\n",
        "print(a**b) #a的b次方\n",
        "print(a/b)  #a除以b\n",
        "print(a//b) #a除以b（得到整數商）\n",
        "print(a%b)  #ａ除以b的餘數"
      ],
      "metadata": {
        "id": "z8g7xitBiS5t",
        "colab": {
          "base_uri": "https://localhost:8080/"
        },
        "outputId": "d4352f27-58a7-4c79-ea83-ca14e72e71f2"
      },
      "execution_count": null,
      "outputs": [
        {
          "output_type": "stream",
          "name": "stdout",
          "text": [
            "3\n",
            "-1\n",
            "2\n",
            "1\n",
            "0.5\n",
            "0\n",
            "1\n"
          ]
        }
      ]
    },
    {
      "cell_type": "markdown",
      "source": [
        "**取餘數（分割）的方法**\n",
        "\n",
        "---\n",
        "\n",
        "\n",
        "*   方法一\n",
        "``` \n",
        "a=152\n",
        "a3=a%10  #個位數\n",
        "a=a//10  #a(152)％10得到個位數(２)，再//10得到15\n",
        "a2=a%10  #十位數\n",
        "a=a//10  #a(15)％10得到十位數(5)，再//10得到1\n",
        "a1=a     #百位數\n",
        "print(a1,a2,a3)\n",
        "```\n",
        "\n",
        "*   方法二\n",
        "```\n",
        "a=152\n",
        "a1=a//100  #百位數\n",
        "a=a-a1*100 #得到52\n",
        "a2=a//10   #十位數\n",
        "a=a-a2*10  #得到2\n",
        "a3=a       #得到個位數\n",
        "print(a1,a2,a3)\n",
        "```\n",
        "\n",
        "\n",
        "\n"
      ],
      "metadata": {
        "id": "9JxqkOcRE_qw"
      }
    },
    {
      "cell_type": "markdown",
      "source": [
        "**PRACTICE**\n",
        "\n",
        "---\n",
        "\n",
        "\n",
        "\n",
        "\n",
        "BIRTH=960204\n",
        "1.   分解為六個數字（中間須留空）\n",
        "▶ 9 6 0 2 0 4\n",
        "2.   將上述結果反向輸出\n",
        "▶ 4 0 2 0 6 9\n",
        "3.   計算其數字相加的總和\n",
        "▶ 21\n",
        "4.   分解為兩兩一組\n",
        "▶格式：96/02/04\n",
        "5.   計算最左三位數與最右三位數的總和\n",
        "▶ 579\n",
        "\n",
        "\n",
        "\n",
        "\n",
        "\n"
      ],
      "metadata": {
        "id": "_-NyEzw6_JTj"
      }
    },
    {
      "cell_type": "code",
      "source": [
        "bd=960204\n",
        "\n",
        "a1=bd//100000     \n",
        "nbd=bd-a1*100000  \n",
        "a2=nbd//10000      \n",
        "nbd=nbd-a2*10000    \n",
        "a3=nbd//1000\n",
        "nbd=nbd-a3*1000  \n",
        "a4=nbd//100\n",
        "nbd=nbd-a4*100    \n",
        "a5=nbd//10\n",
        "a6=nbd-a5*10\n",
        "print(a1,a2,a3,a4,a5,a6)   #practice1\n",
        "print(a6,a5,a4,a3,a2,a1)   #practice2\n",
        "print(a1+a2+a3+a4+a5+a6)   #practice3\n",
        "\n",
        "b1=bd//10000     #96\n",
        "nbd2=bd-b1*10000 #0204\n",
        "b2=nbd2//100\n",
        "b3=nbd2-b2*100\n",
        "print(b1,b2,b3, sep='/' )  #practice4\n",
        "'''how to show '0' of 02 and 04'''\n",
        "\n",
        "c1=bd//1000\n",
        "c2=bd-c1*1000\n",
        "print(c1+c2)    #practice5"
      ],
      "metadata": {
        "colab": {
          "base_uri": "https://localhost:8080/"
        },
        "id": "PBcQQFVnAttp",
        "outputId": "b5461561-99f3-472f-dac8-a8075ebea80e"
      },
      "execution_count": null,
      "outputs": [
        {
          "output_type": "stream",
          "name": "stdout",
          "text": [
            "9 6 0 2 0 4\n",
            "4 0 2 0 6 9\n",
            "21\n",
            "96/2/4\n",
            "1164\n"
          ]
        }
      ]
    },
    {
      "cell_type": "markdown",
      "source": [
        "# **資料的種類**\n",
        "\n",
        "---\n",
        "\n",
        "\n",
        "\n",
        "*   實數\n",
        "*   字元或字串\n",
        "*   str():數值轉變成字串\n",
        "*   int():字串轉變成數值\n",
        "*   len():字串的長度\n",
        "\n",
        "\n",
        "\n",
        "\n",
        "\n"
      ],
      "metadata": {
        "id": "NfOa6tWxCS3Y"
      }
    },
    {
      "cell_type": "code",
      "source": [
        "star=3\n",
        "bucks=4.3\n",
        "print(star+bucks)  #實數"
      ],
      "metadata": {
        "id": "TqmZvz0SGB4c"
      },
      "execution_count": null,
      "outputs": []
    },
    {
      "cell_type": "code",
      "source": [
        "a='a'        #可用單引號\n",
        "b=\"banana\"   #可用雙引號\n",
        "c='卡立'\n",
        "print(a,b,c) #字元/串"
      ],
      "metadata": {
        "id": "KZlhKrlaGQ9h"
      },
      "execution_count": null,
      "outputs": []
    },
    {
      "cell_type": "code",
      "source": [
        "a=12;b=34\n",
        "print(a+b)\n",
        "print(str(a)+str(b))  #數值轉字串\n",
        "\n",
        "c='56';b='78'\n",
        "print(c+b)\n",
        "print(int(c)+int(b)).  #字串轉數值"
      ],
      "metadata": {
        "id": "YvLwCCB0GqBa"
      },
      "execution_count": null,
      "outputs": []
    },
    {
      "cell_type": "code",
      "source": [
        "a1='apple'\n",
        "a2='蘋果'\n",
        "print(len(a1))         #計算字串長度\n",
        "print(len(a2))\n",
        "print(len(a1)+len(a2)) #形式為數值"
      ],
      "metadata": {
        "id": "gSpW5HQHHhfI"
      },
      "execution_count": null,
      "outputs": []
    },
    {
      "cell_type": "markdown",
      "source": [
        "# **程式的輸出入**"
      ],
      "metadata": {
        "id": "7AT_DG1KId1F"
      }
    },
    {
      "cell_type": "markdown",
      "source": [
        "**輸出print()**\n",
        "\n",
        "---\n",
        "\n"
      ],
      "metadata": {
        "id": "eG0Jm-CIJHMa"
      }
    },
    {
      "cell_type": "code",
      "source": [
        "print('star')         #輸出字串\n",
        "print('motcha')\n",
        "\n",
        "''' 若不想跳列，可自行指派end='' '''\n",
        "print('star',end='')  #不跳列\n",
        "print('motcha')\n",
        " \n",
        "print('star',end=' ') #空格\n",
        "print('motcha')\n",
        "\n",
        "print('star',end=',') #加逗號\n",
        "print('motcha')"
      ],
      "metadata": {
        "id": "2Qv_hQn1JTnc"
      },
      "execution_count": null,
      "outputs": []
    },
    {
      "cell_type": "code",
      "source": [
        "a=3                   #輸出變數\n",
        "b=5\n",
        "c=6\n",
        "print(a)\n",
        "print(b)\n",
        "print(c)\n",
        "\n",
        "''' 若不想跳列，可自行指派end='' '''\n",
        "print(a,end=' ')      #空格\n",
        "print(b,end=',')      #加逗號\n",
        "print(c)"
      ],
      "metadata": {
        "id": "ICyzAfskKKOw"
      },
      "execution_count": null,
      "outputs": []
    },
    {
      "cell_type": "markdown",
      "source": [
        "**%：輸出控制字元**\n",
        "\n",
        "---\n",
        "\n"
      ],
      "metadata": {
        "id": "hKloRwH2JwQ0"
      }
    },
    {
      "cell_type": "code",
      "source": [
        "'''%是輸出控制字元，可在輸出結果套用文字說明'''\n",
        "a,b,c=1,2,3\n",
        "print('a=%d,b=%d,c=%d' %(a,b,c))\n",
        "\n",
        "'''使用%時，需要依資料的型態使用對應符號\n",
        "整數：d，浮點數：f，字元：c，字串：s'''\n",
        "a=65\n",
        "print('%f' % a)  #浮點數\n",
        "print('%d' % a)  #整數\n",
        "print('%c' % a)  #字元（ascii制)\n",
        "\n",
        "b='mocha'        #字串\n",
        "c=55\n",
        "print('drink:%s price:%d' %(b,c))"
      ],
      "metadata": {
        "id": "Tw5QDLakEkye"
      },
      "execution_count": null,
      "outputs": []
    },
    {
      "cell_type": "code",
      "source": [
        "'''格式化輸出\n",
        "為了控制每個欄位的寬度，還可以在d,s,f前加上數字，代表欄位寬度'''\n",
        "a,b,c=1,2,3\n",
        "print('%6d,%6d,%6d' %(a,b,c))     #每欄寬度＝6\n",
        "\n",
        "pi=3.14159\n",
        "print('%6.2f' %pi)                #每欄寬度=6，小數取2位，小數點佔一位\n",
        "\n",
        "a,b,c=1,2,3\n",
        "print('%-6d,%-6d,%-6d' %(a,b,c))  #左靠加-\n",
        "\n",
        "a,b,c=1,2,3\n",
        "print('%dx%+dy%+dz' %(a,b,c))     #強制輸出符號要加上符號"
      ],
      "metadata": {
        "id": "njC7QZPNIp_Y",
        "colab": {
          "base_uri": "https://localhost:8080/"
        },
        "outputId": "ff2c25e1-612b-4492-930d-9c7713377645"
      },
      "execution_count": 1,
      "outputs": [
        {
          "output_type": "stream",
          "name": "stdout",
          "text": [
            "     1,     2,     3\n",
            "  3.14\n",
            "1     ,2     ,3     \n",
            "1x+2y+3z\n"
          ]
        }
      ]
    },
    {
      "cell_type": "markdown",
      "source": [
        "**輸入input()**\n",
        "\n",
        "---\n",
        "\n"
      ],
      "metadata": {
        "id": "LE7HBRlaLG3Z"
      }
    },
    {
      "cell_type": "code",
      "source": [
        "a=input('input a=')\n",
        "print(a)\n",
        "'''python預設輸入者為字串，若想轉換為數值須在前面加int()'''\n",
        "\n",
        "a=input('input a=')\n",
        "b=input('input b=')\n",
        "print(a+b)   #字串相加\n",
        "\n",
        "a=int(input('input a='))\n",
        "b=int(input('input b='))\n",
        "print(a+b)   #數值相加"
      ],
      "metadata": {
        "id": "aX7sQGbjLQXR"
      },
      "execution_count": null,
      "outputs": []
    },
    {
      "cell_type": "markdown",
      "source": [
        "eval\n",
        "\n",
        "---\n",
        "\n",
        "\n",
        "\n",
        "---\n",
        "\n"
      ],
      "metadata": {
        "id": "yLkD0gZwnTil"
      }
    },
    {
      "cell_type": "code",
      "source": [
        "'''使用eval()可以同時輸入多筆資料，且資料型態為數值'''\n",
        "a,b,c=eval(input('input a,b,c='))\n",
        "print(a,b,c)\n",
        "\n",
        "'''使用eval()還可以輸入數學運算式，且資料型態為數值'''\n",
        "a=eval(input('input a formula'))\n",
        "print(a)"
      ],
      "metadata": {
        "id": "ZKHO5DCBL5mQ"
      },
      "execution_count": null,
      "outputs": []
    },
    {
      "cell_type": "markdown",
      "source": [
        "**PRACTICE**\n",
        "\n",
        "---\n",
        "\n",
        "\n",
        "\n",
        "\n",
        "\n",
        "1.   分四次輸入0-9的整數，並將其合併為一四位數\n",
        "2.   先輸入3個0-9的整數，再輸入兩個，並將其合併為一個浮點數\n",
        "3.   請輸入一個四位數並將其分解為a1 * 10^3+a2 * 10^2+a3 * 10^1+a4\n",
        "4.  輸入攝氏溫度，轉化為華氏溫度，輸出時，欄位寬度為5，小數取一位\n",
        "\n",
        "\n",
        "\n",
        "\n",
        "\n",
        "\n",
        "\n"
      ],
      "metadata": {
        "id": "rDmE4CeOGPyc"
      }
    },
    {
      "cell_type": "code",
      "source": [
        "#practice1\n",
        "a=input()\n",
        "b=input()\n",
        "c=input()\n",
        "d=input()\n",
        "A=a+b+c+d\n",
        "print(A)\n",
        "\n",
        "#practice2\n",
        "a,b,c=str(eval(input('a,b,c=')))\n",
        "d,e=str(eval(input('d,e=')))\n",
        "print(a,b,c,'.',d,e, end='')\n",
        "\n",
        "#practice3\n",
        "a,b,c,d=eval(input('a,b,c,d='))\n",
        "print('%d*10^3+%d*10^2+%d*10^1+%d' %(a,b,c,d))\n",
        "\n",
        "#practice4\n",
        "c=int(input('input the celsius pls:'))\n",
        "f=c*(9/5)+32\n",
        "print('%5.1f' %f)"
      ],
      "metadata": {
        "id": "uVonGfcDHuec"
      },
      "execution_count": null,
      "outputs": []
    },
    {
      "cell_type": "markdown",
      "source": [
        "亂數\n",
        "\n",
        "---\n",
        "\n"
      ],
      "metadata": {
        "id": "9LAm58mgKtwG"
      }
    },
    {
      "cell_type": "code",
      "source": [
        "'''\n",
        "random模組的使用方式：import random\n",
        "傳回min(含)與max(含)之間的亂數：randint(min,max)\n",
        "'''\n",
        "\n",
        "import random\n",
        "a=random.randint(1,6)   #1到6之間隨機取一數   \n",
        "print(a)\n",
        "\n",
        "import random\n",
        "b=random.randint(65,90) #65到90之間隨機取一數   \n",
        "print(b)                #輸出數字\n",
        "print('%c' %b)          #輸出ASCII對應的字元\n",
        "\n",
        "'''\n",
        "若不想寫太多random可另外取一個簡單的物件名\n",
        "'''\n",
        "import random as a\n",
        "c=a.randint(1,6)\n",
        "print(c)"
      ],
      "metadata": {
        "colab": {
          "base_uri": "https://localhost:8080/"
        },
        "id": "twQzQo1BLghr",
        "outputId": "b7564644-5ac0-41cd-e6fc-50803e807fc2"
      },
      "execution_count": null,
      "outputs": [
        {
          "output_type": "stream",
          "name": "stdout",
          "text": [
            "6\n",
            "89\n",
            "Y\n"
          ]
        }
      ]
    }
  ]
}